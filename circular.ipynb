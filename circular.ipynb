{
  "cells": [
    {
      "cell_type": "code",
      "execution_count": null,
      "metadata": {
        "colab": {
          "base_uri": "https://localhost:8080/"
        },
        "id": "ENjFQqu4b9x0",
        "outputId": "e5198fd8-1aed-4c0a-c91e-a84b77800ed7"
      },
      "outputs": [
        {
          "output_type": "stream",
          "name": "stdout",
          "text": [
            "List Before Deletion: \n",
            "10 8 7 5 2 \n",
            "List After Deletion: \n",
            "10 8 5 2 \n"
          ]
        }
      ],
      "source": [
        "class Node:\n",
        "\tdef __init__(self, data):\n",
        "\t\tself.data = data\n",
        "\t\tself.next = None\n",
        "def push(head, data):\n",
        "\tnewP = Node(data)\n",
        "\tnewP.next = head\n",
        "\tif head != None:\n",
        "\t\ttemp = head\n",
        "\t\twhile (temp.next != head):\n",
        "\t\t\ttemp = temp.next\n",
        "\t\ttemp.next = newP\n",
        "\telse:\n",
        "\t\tnewP.next = newP\n",
        "\thead = newP\n",
        "\treturn head\n",
        "def printList(head):\n",
        "\tif head == None:\n",
        "\t\tprint(\"List is Empty\")\n",
        "\t\treturn\n",
        "\ttemp = head.next\n",
        "\tprint(head.data, end=' ')\n",
        "\tif (head != None):\n",
        "\t\twhile (temp != head):\n",
        "\t\t\tprint(temp.data, end=\" \")\n",
        "\t\t\ttemp = temp.next\n",
        "\tprint()\n",
        "def deleteNode(head, key):\n",
        "\tif (head == None):\n",
        "\t\treturn\n",
        "\tif (head.data == key and head.next == head):\n",
        "\t\thead = None\n",
        "\t\treturn\n",
        "\tlast = head\n",
        "\tif (head.data == key):\n",
        "\t\twhile (last.next != head):\n",
        "\t\t\tlast = last.next\n",
        "\t\tlast.next = head.next\n",
        "\t\thead = last.next\n",
        "\t\treturn\n",
        "\twhile (last.next != head and last.next.data != key):\n",
        "\t\tlast = last.next\n",
        "\tif (last.next.data == key):\n",
        "\t\td = last.next\n",
        "\t\tlast.next = d.next\n",
        "\t\td = None\n",
        "\telse:\n",
        "\t\tprint(\"Given node is not found in the list!!!\")\n",
        "\n",
        "head = None\n",
        "head = push(head, 2)\n",
        "head = push(head, 5)\n",
        "head = push(head, 7)\n",
        "head = push(head, 8)\n",
        "head = push(head, 10)\n",
        "\n",
        "print(\"List Before Deletion: \")\n",
        "printList(head)\n",
        "\n",
        "deleteNode(head, 7)\n",
        "print(\"List After Deletion: \")\n",
        "printList(head)\n"
      ]
    },
    {
      "cell_type": "code",
      "execution_count": null,
      "metadata": {
        "id": "lSWvPgdgyfo-"
      },
      "outputs": [],
      "source": []
    },
    {
      "cell_type": "code",
      "execution_count": null,
      "metadata": {
        "id": "m5Lqkjhmr4hV"
      },
      "outputs": [],
      "source": []
    },
    {
      "cell_type": "code",
      "execution_count": 10,
      "metadata": {
        "colab": {
          "base_uri": "https://localhost:8080/"
        },
        "id": "w7iqr4F2r4nj",
        "outputId": "9f2776ab-71c1-4323-8ff3-da1fbf55d467"
      },
      "outputs": [
        {
          "name": "stdout",
          "output_type": "stream",
          "text": [
            "Enter the choice for 1.push  2.pop  3. Nothing:\n",
            "1\n",
            "Enter the value to be added:\n",
            "10\n",
            "['10']\n",
            "Enter the choice for 1.push  2.pop  3. Nothing:\n",
            "1\n",
            "Enter the value to be added:\n",
            "20\n",
            "['10', '20']\n",
            "Enter the choice for 1.push  2.pop  3. Nothing:\n",
            "1\n",
            "Enter the value to be added:\n",
            "30\n",
            "['10', '20', '30']\n",
            "Enter the choice for 1.push  2.pop  3. Nothing:\n",
            "3\n"
          ]
        }
      ],
      "source": [
        "stack=[]\n",
        "def push():\n",
        "    elements=(input(\"Enter the value to be added:\\n\"))\n",
        "    stack.append(elements)\n",
        "    print(stack)\n",
        "\n",
        "def pop():\n",
        "  if not stack:\n",
        "    print('Stack is empty')\n",
        "  else:\n",
        "    e=stack.pop()\n",
        "    print(\"The removed element is \",e)\n",
        "    print(stack)\n",
        "while(1):\n",
        "    choice=int(input(\"Enter the choice for 1.push  2.pop  3. Nothing:\\n\"))\n",
        "    if choice==1:\n",
        "       push()\n",
        "    elif choice==2:\n",
        "       pop()\n",
        "    else:\n",
        "       break\n",
        "\n",
        "\n"
      ]
    },
    {
      "cell_type": "code",
      "execution_count": null,
      "metadata": {
        "id": "aOUw0rQYgRhW"
      },
      "outputs": [],
      "source": []
    }
  ],
  "metadata": {
    "colab": {
      "provenance": []
    },
    "kernelspec": {
      "display_name": "Python 3",
      "name": "python3"
    },
    "language_info": {
      "name": "python"
    }
  },
  "nbformat": 4,
  "nbformat_minor": 0
}