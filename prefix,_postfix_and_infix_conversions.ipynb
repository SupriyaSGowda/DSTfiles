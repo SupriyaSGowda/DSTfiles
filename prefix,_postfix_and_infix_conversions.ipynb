{
  "nbformat": 4,
  "nbformat_minor": 0,
  "metadata": {
    "colab": {
      "provenance": []
    },
    "kernelspec": {
      "name": "python3",
      "display_name": "Python 3"
    },
    "language_info": {
      "name": "python"
    }
  },
  "cells": [
    {
      "cell_type": "code",
      "execution_count": 1,
      "metadata": {
        "id": "2ze98Dbdh7_2",
        "colab": {
          "base_uri": "https://localhost:8080/"
        },
        "outputId": "745de5c0-672e-4b09-ff43-4fef9a5dac64"
      },
      "outputs": [
        {
          "output_type": "stream",
          "name": "stdout",
          "text": [
            "Infix Expression: (a+b)*c+d\n",
            "Postfix Expression: ab+c*d+\n",
            "Infix Expression: (a+b+c)+d\n",
            "Postfix Expression: ab+c+d+\n"
          ]
        }
      ],
      "source": [
        "def is_operator(char):\n",
        "    return char in {'+', '-', '*', '/'}\n",
        "def precedence(operator):\n",
        "    if operator == '+' or operator == '-':\n",
        "        return 1\n",
        "    elif operator == '*' or operator == '/':\n",
        "        return 2\n",
        "    else:\n",
        "        return 0\n",
        "def infix_to_postfix(expression):\n",
        "    stack = []\n",
        "    postfix = []\n",
        "    for char in expression:\n",
        "        if char.isalnum():\n",
        "            postfix.append(char)\n",
        "        elif char == '(':\n",
        "            stack.append(char)\n",
        "        elif char == ')':\n",
        "            while stack and stack[-1] != '(':\n",
        "                postfix.append(stack.pop())\n",
        "            stack.pop()\n",
        "        elif is_operator(char):\n",
        "            while stack and precedence(stack[-1]) >= precedence(char):\n",
        "                postfix.append(stack.pop())\n",
        "            stack.append(char)\n",
        "    while stack:\n",
        "        postfix.append(stack.pop())\n",
        "    return ''.join(postfix)\n",
        "infix_expression = \"(a+b)*c+d\"\n",
        "postfix_expression = infix_to_postfix(infix_expression)\n",
        "print(\"Infix Expression:\", infix_expression)\n",
        "print(\"Postfix Expression:\", postfix_expression)\n",
        "\n",
        "infix=\"(a+b+c)+d\"\n",
        "postfix=infix_to_postfix(infix)\n",
        "print(\"Infix Expression:\", infix)\n",
        "print(\"Postfix Expression:\", postfix)"
      ]
    },
    {
      "cell_type": "code",
      "source": [],
      "metadata": {
        "id": "8VnMK_lmvUGu"
      },
      "execution_count": null,
      "outputs": []
    },
    {
      "cell_type": "code",
      "source": [],
      "metadata": {
        "id": "byZqCcLjvUJe"
      },
      "execution_count": null,
      "outputs": []
    },
    {
      "cell_type": "code",
      "source": [],
      "metadata": {
        "id": "JBnoWh9YvU5N"
      },
      "execution_count": null,
      "outputs": []
    },
    {
      "cell_type": "code",
      "source": [
        "def fibo(n):\n",
        "  if n<=0:\n",
        "    print(\"Enter a valid input\")\n",
        "  if n==1:\n",
        "    return 0\n",
        "  elif n==2:\n",
        "    return 1\n",
        "  elif n==2:\n",
        "    return 1\n",
        "  else:\n",
        "    return(fibo(n-1)+fibo(n-2))\n",
        "print(fibo(4))\n"
      ],
      "metadata": {
        "colab": {
          "base_uri": "https://localhost:8080/"
        },
        "id": "En7Buv-dm2HW",
        "outputId": "65f5ede9-c31e-403e-b0d8-0b76579340b3"
      },
      "execution_count": null,
      "outputs": [
        {
          "output_type": "stream",
          "name": "stdout",
          "text": [
            "2\n"
          ]
        }
      ]
    },
    {
      "cell_type": "code",
      "source": [
        "def is_operand(char):\n",
        "    return char.isalnum()\n",
        "\n",
        "def evaluate_postfix(postfix_expression):\n",
        "    stack = []\n",
        "\n",
        "    for char in postfix_expression:\n",
        "        if is_operand(char):\n",
        "          stack.append(float(char))\n",
        "        else:\n",
        "            operand2 = stack.pop()\n",
        "            operand1 = stack.pop()\n",
        "\n",
        "            if char == '+':\n",
        "                result = operand1 + operand2\n",
        "            elif char == '-':\n",
        "                result = operand1 - operand2\n",
        "            elif char == '*':\n",
        "                result = operand1 * operand2\n",
        "            elif char == '/':\n",
        "                result = operand1 / operand2\n",
        "            stack.append(result)\n",
        "    return (stack.pop())\n",
        "\n",
        "postfix_expression = \"1020*5+\"\n",
        "result = evaluate_postfix(postfix_expression)\n",
        "print(\"Postfix Expression:\", postfix_expression)\n",
        "print(\"Result:\", result)"
      ],
      "metadata": {
        "colab": {
          "base_uri": "https://localhost:8080/"
        },
        "id": "XmKNS7z3vVkE",
        "outputId": "c47b9bcc-0086-4884-fca3-0c9c59edb56d"
      },
      "execution_count": null,
      "outputs": [
        {
          "output_type": "stream",
          "name": "stdout",
          "text": [
            "Postfix Expression: 1020*5+\n",
            "Result: 5.0\n"
          ]
        }
      ]
    }
  ]
}