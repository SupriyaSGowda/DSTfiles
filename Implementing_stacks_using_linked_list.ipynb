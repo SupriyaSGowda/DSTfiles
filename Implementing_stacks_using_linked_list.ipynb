{
  "nbformat": 4,
  "nbformat_minor": 0,
  "metadata": {
    "colab": {
      "provenance": []
    },
    "kernelspec": {
      "name": "python3",
      "display_name": "Python 3"
    },
    "language_info": {
      "name": "python"
    }
  },
  "cells": [
    {
      "cell_type": "code",
      "execution_count": null,
      "metadata": {
        "colab": {
          "base_uri": "https://localhost:8080/"
        },
        "id": "0psrLnLZLl5F",
        "outputId": "388fbf38-57de-4965-ed0f-d65b31dbbd65"
      },
      "outputs": [
        {
          "name": "stdout",
          "output_type": "stream",
          "text": [
            "Enter the option from below\n",
            "1:Push operation, 2:Pop operation, 3:Display, 4:Exit\n",
            "1\n",
            "Push operation\n",
            "----\n",
            "Enter the element to be interested into Stack:\n",
            "10\n",
            "Enter the option from below\n",
            "1:Push operation, 2:Pop operation, 3:Display, 4:Exit\n",
            "1\n",
            "Push operation\n",
            "----\n",
            "Enter the element to be interested into Stack:\n",
            "20\n",
            "Enter the option from below\n",
            "1:Push operation, 2:Pop operation, 3:Display, 4:Exit\n",
            "3\n",
            "Display\n",
            "----\n",
            "Elements of the stack are\n",
            "20\n",
            "10\n",
            "Top of the stack is:  20\n",
            "------------\n",
            "Enter the option from below\n",
            "1:Push operation, 2:Pop operation, 3:Display, 4:Exit\n",
            "4\n"
          ]
        }
      ],
      "source": [
        "class Node:\n",
        "  def __init__(self,x):\n",
        "    self.data=x\n",
        "    self.next=None\n",
        "class Stack:\n",
        "  def __init__(self):\n",
        "    self.top=None\n",
        "\n",
        "  def push(self):\n",
        "    x=int(input(\"Enter the element to be interested into Stack:\\n\"))\n",
        "    new=Node(x)\n",
        "    if  self.top is None:\n",
        "      self.top=new\n",
        "      self.top.next=None\n",
        "    else:\n",
        "      new.next=self.top\n",
        "      self.top=new\n",
        "\n",
        "  def pop(self):\n",
        "    if self.top is None:\n",
        "      print(\"Stack is empty\")\n",
        "    elif self.top.next is None:\n",
        "      print(\"Popped element is:\",self.top.data)\n",
        "      self.top=None\n",
        "    else:\n",
        "      temp=self.top\n",
        "      print(\"Popped element is:\",self.top.data)\n",
        "      print(\"---------\")\n",
        "      self.top=temp.next\n",
        "      temp=None\n",
        "\n",
        "  def display(self):\n",
        "    if self.top is None:\n",
        "      print(\"Stack is empty\")\n",
        "    else:\n",
        "      print(\"Elements of the stack are\")\n",
        "      temp=self.top\n",
        "      while temp:\n",
        "        print(temp.data)\n",
        "        temp=temp.next\n",
        "      print(\"Top of the stack is: \", self.top.data)\n",
        "      print(\"------------\")\n",
        "s=Stack()\n",
        "while(1):\n",
        "  print(\"Enter the option from below\")\n",
        "  print(\"1:Push operation, 2:Pop operation, 3:Display, 4:Exit\")\n",
        "  option=int(input())\n",
        "  if option==1:\n",
        "    print(\"Push operation\")\n",
        "    print(\"----\")\n",
        "    s.push()\n",
        "  elif option==2:\n",
        "    print(\"POP operation\")\n",
        "    print(\"----\")\n",
        "    s.pop()\n",
        "  elif option==3:\n",
        "    print(\"Display\")\n",
        "    print(\"----\")\n",
        "    s.display()\n",
        "  else:\n",
        "    break\n",
        "\n"
      ]
    }
  ]
}